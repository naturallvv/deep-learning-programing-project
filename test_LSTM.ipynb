{
 "cells": [
  {
   "cell_type": "code",
   "execution_count": 13,
   "id": "fc5800c8-d408-431c-abb9-1bc49cadfdc4",
   "metadata": {},
   "outputs": [],
   "source": [
    "import numpy as np\n",
    "import pandas as pd\n",
    "import matplotlib.pyplot as plt\n",
    "\n",
    "import torch\n",
    "import torch.nn as nn\n",
    "import torch.optim as optim\n",
    "from torch.autograd import Variable\n",
    "from sklearn.preprocessing import *\n",
    "from sklearn.model_selection import *\n",
    "from sklearn.metrics import *\n",
    "\n",
    "device = torch.device('cuda' if torch.cuda.is_available() else 'cpu')\n",
    "cuda = True if torch.cuda.is_available() else False\n",
    "Tensor = torch.cuda.FloatTensor if cuda else torch.FloatTensor"
   ]
  },
  {
   "cell_type": "code",
   "execution_count": 11,
   "id": "090520c6-0d66-424b-8042-5e1868b5de21",
   "metadata": {},
   "outputs": [
    {
     "name": "stdout",
     "output_type": "stream",
     "text": [
      "LABEL          int64\n",
      "FLUX.1       float64\n",
      "FLUX.2       float64\n",
      "FLUX.3       float64\n",
      "FLUX.4       float64\n",
      "              ...   \n",
      "FLUX.3193    float64\n",
      "FLUX.3194    float64\n",
      "FLUX.3195    float64\n",
      "FLUX.3196    float64\n",
      "FLUX.3197    float64\n",
      "Length: 3198, dtype: object\n"
     ]
    }
   ],
   "source": [
    "train_data = pd.read_csv(\"C:/Users/user/Desktop/deep-learning-programing-project/train_data.csv\")\n",
    "print(data.dtypes)"
   ]
  },
  {
   "cell_type": "code",
   "execution_count": null,
   "id": "802beec4-7a43-44c1-8cc5-2258bc2ff5ac",
   "metadata": {},
   "outputs": [],
   "source": [
    "# 데이터 전처리\n",
    "# 라벨을 제외한 플럭스 데이터만 선택\n",
    "flux_columns = data.columns[1:]  # 첫 번째 열은 LABEL이므로 제외\n",
    "X = data[flux_columns]\n",
    "\n",
    "# 라벨 데이터 선택\n",
    "y = data['LABEL']\n",
    "\n",
    "# StandardScaler를 사용하여 데이터 정규화\n",
    "scaler = StandardScaler()\n",
    "X_scaled = scaler.fit_transform(X)\n",
    "\n",
    "# 데이터 분할 (검증 데이터 비율 0.2)\n",
    "X_train, X_val, y_train, y_val = train_test_split(X_scaled, y, test_size=0.2, random_state=42)\n",
    "\n",
    "# 시계열 데이터의 형태로 변환 (샘플 수, 시간 단계, 특징 수)\n",
    "X_train_reshaped = X_train.reshape((X_train.shape[0], X_train.shape[1], 1))\n",
    "X_val_reshaped = X_val.reshape((X_val.shape[0], X_val.shape[1], 1))\n",
    "\n",
    "# 레이블이 0부터 시작하도록 조정\n",
    "y_train = y_train - 1\n",
    "y_val = y_val - 1\n",
    "\n",
    "X_train_reshaped.shape"
   ]
  },
  {
   "cell_type": "code",
   "execution_count": 2,
   "id": "7bab7e19-5791-4c99-b8f5-6e39ab12137d",
   "metadata": {},
   "outputs": [],
   "source": [
    "# LSTM 모델 정의\n",
    "class LSTMModel(nn.Module):\n",
    "    def __init__(self, input_dim, hidden_dim, output_dim, num_layers):\n",
    "        super(LSTMModel, self).__init__()\n",
    "        self.hidden_dim = hidden_dim\n",
    "        self.num_layers = num_layers\n",
    "        self.lstm = nn.LSTM(input_dim, hidden_dim, num_layers, batch_first=True)\n",
    "        self.fc = nn.Linear(hidden_dim, output_dim)\n",
    "\n",
    "    def forward(self, x):\n",
    "        h0 = torch.zeros(self.num_layers, x.size(0), self.hidden_dim).to(device)\n",
    "        c0 = torch.zeros(self.num_layers, x.size(0), self.hidden_dim).to(device)\n",
    "        out, _ = self.lstm(x, (h0, c0))\n",
    "        out = self.fc(out[:, -1, :])\n",
    "        return out"
   ]
  },
  {
   "cell_type": "code",
   "execution_count": null,
   "id": "7ba183e9-3008-4e19-8427-e90421b52113",
   "metadata": {},
   "outputs": [],
   "source": [
    "# 모델 파라미터 설정\n",
    "input_dim = 1  # 특징 수 (시계열 데이터의 경우 보통 1)\n",
    "hidden_dim = 64\n",
    "output_dim = 2  # 레이블 수\n",
    "num_layers = 2"
   ]
  },
  {
   "cell_type": "code",
   "execution_count": null,
   "id": "647e59f5-b4c4-4cb4-af29-c3724c83f520",
   "metadata": {},
   "outputs": [],
   "source": [
    "# 모델 생성 및 전송\n",
    "model = LSTMModel(input_dim, hidden_dim, output_dim, num_layers).to(device)"
   ]
  },
  {
   "cell_type": "code",
   "execution_count": 3,
   "id": "53e32cc5-0c45-4221-8cc1-54725362303d",
   "metadata": {},
   "outputs": [
    {
     "data": {
      "text/plain": [
       "(4069, 3197, 1)"
      ]
     },
     "execution_count": 3,
     "metadata": {},
     "output_type": "execute_result"
    }
   ],
   "source": []
  },
  {
   "cell_type": "code",
   "execution_count": 4,
   "id": "79ce5b3a-e98a-4d48-90e1-babfa7944554",
   "metadata": {},
   "outputs": [
    {
     "data": {
      "text/plain": [
       "tensor([[[-0.0068],\n",
       "         [-0.0061],\n",
       "         [-0.0069],\n",
       "         ...,\n",
       "         [ 0.0299],\n",
       "         [ 0.0259],\n",
       "         [ 0.0199]],\n",
       "\n",
       "        [[-0.0088],\n",
       "         [-0.0068],\n",
       "         [-0.0059],\n",
       "         ...,\n",
       "         [ 0.0344],\n",
       "         [ 0.0219],\n",
       "         [ 0.0048]],\n",
       "\n",
       "        [[-0.3390],\n",
       "         [-0.6628],\n",
       "         [-0.2338],\n",
       "         ...,\n",
       "         [ 0.4679],\n",
       "         [ 0.3186],\n",
       "         [-0.2473]],\n",
       "\n",
       "        ...,\n",
       "\n",
       "        [[-0.0069],\n",
       "         [-0.0068],\n",
       "         [-0.0072],\n",
       "         ...,\n",
       "         [ 0.0312],\n",
       "         [ 0.0264],\n",
       "         [ 0.0222]],\n",
       "\n",
       "        [[-0.0063],\n",
       "         [-0.0061],\n",
       "         [-0.0065],\n",
       "         ...,\n",
       "         [ 0.0307],\n",
       "         [ 0.0269],\n",
       "         [ 0.0208]],\n",
       "\n",
       "        [[-0.0120],\n",
       "         [-0.0152],\n",
       "         [-0.0121],\n",
       "         ...,\n",
       "         [ 0.0243],\n",
       "         [ 0.0164],\n",
       "         [ 0.0227]]], device='cuda:0')"
      ]
     },
     "execution_count": 4,
     "metadata": {},
     "output_type": "execute_result"
    }
   ],
   "source": [
    "# 데이터 텐서로 변환 및 전송 (정수형 레이블 사용)\n",
    "X_train_tensor = torch.tensor(X_train_reshaped, dtype=torch.float32).to(device)\n",
    "y_train_tensor = torch.tensor(y_train.values, dtype=torch.long).to(device)\n",
    "X_val_tensor = torch.tensor(X_val_reshaped, dtype=torch.float32).to(device)\n",
    "y_val_tensor = torch.tensor(y_val.values, dtype=torch.long).to(device)\n",
    "\n",
    "X_train_tensor"
   ]
  },
  {
   "cell_type": "code",
   "execution_count": 8,
   "id": "1c0729c8-f416-4ad5-aaf2-ef0d19722687",
   "metadata": {},
   "outputs": [],
   "source": [
    "# 손실 함수와 최적화 함수 설정\n",
    "criterion = nn.CrossEntropyLoss()\n",
    "optimizer = optim.Adam(model.parameters(), lr=0.01)"
   ]
  },
  {
   "cell_type": "code",
   "execution_count": 9,
   "id": "bc3e14cf-38a4-40b4-8124-060de6df33a5",
   "metadata": {},
   "outputs": [
    {
     "name": "stdout",
     "output_type": "stream",
     "text": [
      "Epoch 1/10, Train Loss: 0.0014, Val Loss: 0.0014, Val Accuracy: 0.9921\n",
      "Epoch 2/10, Train Loss: 0.0014, Val Loss: 0.0014, Val Accuracy: 0.9921\n",
      "Epoch 3/10, Train Loss: 0.0014, Val Loss: 0.0014, Val Accuracy: 0.9921\n",
      "Epoch 4/10, Train Loss: 0.0014, Val Loss: 0.0014, Val Accuracy: 0.9921\n",
      "Epoch 5/10, Train Loss: 0.0014, Val Loss: 0.0014, Val Accuracy: 0.9921\n",
      "Epoch 6/10, Train Loss: 0.0014, Val Loss: 0.0014, Val Accuracy: 0.9921\n",
      "Epoch 7/10, Train Loss: 0.0014, Val Loss: 0.0014, Val Accuracy: 0.9921\n",
      "Epoch 8/10, Train Loss: 0.0014, Val Loss: 0.0017, Val Accuracy: 0.9921\n",
      "Epoch 9/10, Train Loss: 0.0014, Val Loss: 0.0014, Val Accuracy: 0.9921\n",
      "Epoch 10/10, Train Loss: 0.0014, Val Loss: 0.0014, Val Accuracy: 0.9921\n"
     ]
    }
   ],
   "source": [
    "# 학습 및 검증 함수 정의\n",
    "def train(model, criterion, optimizer, X_train, y_train, batch_size):\n",
    "    model.train()\n",
    "    total_loss = 0\n",
    "    for i in range(0, len(X_train), batch_size):\n",
    "        X_batch = X_train[i:i+batch_size]\n",
    "        y_batch = y_train[i:i+batch_size]\n",
    "        \n",
    "        optimizer.zero_grad()\n",
    "        outputs = model(X_batch)\n",
    "        loss = criterion(outputs, y_batch)\n",
    "        loss.backward()\n",
    "        optimizer.step()\n",
    "        \n",
    "        total_loss += loss.item()\n",
    "    \n",
    "    return total_loss / len(X_train)\n",
    "\n",
    "def evaluate(model, criterion, X_val, y_val, batch_size):\n",
    "    model.eval()\n",
    "    total_loss = 0\n",
    "    all_preds = []\n",
    "    with torch.no_grad():\n",
    "        for i in range(0, len(X_val), batch_size):\n",
    "            X_batch = X_val[i:i+batch_size]\n",
    "            y_batch = y_val[i:i+batch_size]\n",
    "            \n",
    "            outputs = model(X_batch)\n",
    "            loss = criterion(outputs, y_batch)\n",
    "            total_loss += loss.item()\n",
    "            \n",
    "            preds = torch.argmax(outputs, dim=1)\n",
    "            all_preds.extend(preds.cpu().numpy())\n",
    "    \n",
    "    accuracy = accuracy_score(y_val.cpu(), all_preds)\n",
    "    return total_loss / len(X_val), accuracy\n",
    "\n",
    "# 학습 및 검증\n",
    "num_epochs = 10\n",
    "batch_size = 32\n",
    "\n",
    "for epoch in range(num_epochs):\n",
    "    train_loss = train(model, criterion, optimizer, X_train_tensor, y_train_tensor, batch_size)\n",
    "    val_loss, val_accuracy = evaluate(model, criterion, X_val_tensor, y_val_tensor, batch_size)\n",
    "    \n",
    "    print(f'Epoch {epoch+1}/{num_epochs}, Train Loss: {train_loss:.4f}, Val Loss: {val_loss:.4f}, Val Accuracy: {val_accuracy:.4f}')"
   ]
  }
 ],
 "metadata": {
  "kernelspec": {
   "display_name": "Python 3 (ipykernel)",
   "language": "python",
   "name": "python3"
  },
  "language_info": {
   "codemirror_mode": {
    "name": "ipython",
    "version": 3
   },
   "file_extension": ".py",
   "mimetype": "text/x-python",
   "name": "python",
   "nbconvert_exporter": "python",
   "pygments_lexer": "ipython3",
   "version": "3.9.19"
  }
 },
 "nbformat": 4,
 "nbformat_minor": 5
}
